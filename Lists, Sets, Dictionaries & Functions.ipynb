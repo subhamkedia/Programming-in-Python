{
 "cells": [
  {
   "cell_type": "markdown",
   "metadata": {},
   "source": [
    "# Homework-5\n",
    "# Name - Subham Kedia\n",
    "# UNI - sk4355"
   ]
  },
  {
   "cell_type": "markdown",
   "metadata": {},
   "source": [
    "## Answer-1"
   ]
  },
  {
   "cell_type": "code",
   "execution_count": 3,
   "metadata": {},
   "outputs": [
    {
     "data": {
      "text/plain": [
       "'The complex number (10-15j) is formed from the real part 10.0 and the imaginary part -15.0.'"
      ]
     },
     "execution_count": 3,
     "metadata": {},
     "output_type": "execute_result"
    }
   ],
   "source": [
    "# formatting or presenting by accessing arguments' attributes\n",
    "a = 10-15j\n",
    "\"The complex number {0} is formed from the real part {0.real} and the imaginary part {0.imag}.\".format(a)"
   ]
  },
  {
   "cell_type": "code",
   "execution_count": 4,
   "metadata": {},
   "outputs": [
    {
     "data": {
      "text/plain": [
       "'1,234,567,890'"
      ]
     },
     "execution_count": 4,
     "metadata": {},
     "output_type": "execute_result"
    }
   ],
   "source": [
    "# formatting or presenting using the comma as a thousands separator\n",
    "'{:,}'.format(1234567890)"
   ]
  },
  {
   "cell_type": "code",
   "execution_count": 5,
   "metadata": {},
   "outputs": [
    {
     "name": "stdout",
     "output_type": "stream",
     "text": [
      "left aligned                  \n",
      "                 right aligned\n",
      "           centered           \n",
      "***********centered***********\n"
     ]
    }
   ],
   "source": [
    "# formatting or presenting by aligning the text and specifying the width\n",
    "print('{:<30}'.format('left aligned'))\n",
    "print('{:>30}'.format('right aligned'))\n",
    "print('{:^30}'.format('centered'))\n",
    "print('{:*^30}'.format('centered'))"
   ]
  },
  {
   "cell_type": "markdown",
   "metadata": {},
   "source": [
    "## Answer-2"
   ]
  },
  {
   "cell_type": "code",
   "execution_count": 10,
   "metadata": {},
   "outputs": [
    {
     "name": "stdout",
     "output_type": "stream",
     "text": [
      "\\\\\\\\\\\n",
      "\\\\\\\\\\ \n"
     ]
    }
   ],
   "source": [
    "# Printing 5 consecutive backslashes using the print function\n",
    "print(\"\\\\\\\\\\\\\\\\\\\\\")\n",
    "\n",
    "#OR\n",
    "\n",
    "print(r\"\\\\\\\\\\ \")"
   ]
  },
  {
   "cell_type": "markdown",
   "metadata": {},
   "source": [
    "## Answer-3"
   ]
  },
  {
   "cell_type": "code",
   "execution_count": 11,
   "metadata": {},
   "outputs": [
    {
     "name": "stdout",
     "output_type": "stream",
     "text": [
      "Hello World\t!How are you today?\n"
     ]
    }
   ],
   "source": [
    "# The escape sequence for tabs is \\t\n",
    "print(\"Hello World\\t!How are you today?\") #Example"
   ]
  },
  {
   "cell_type": "code",
   "execution_count": 13,
   "metadata": {},
   "outputs": [
    {
     "name": "stdout",
     "output_type": "stream",
     "text": [
      "Hello Subham\r",
      "Kedia\n"
     ]
    }
   ],
   "source": [
    "# The escape sequence for carriage returns is \\r\n",
    "print(\"Hello Subham\\rKedia\") #Example"
   ]
  },
  {
   "cell_type": "markdown",
   "metadata": {},
   "source": [
    "## Answer-4"
   ]
  },
  {
   "cell_type": "code",
   "execution_count": 14,
   "metadata": {},
   "outputs": [
    {
     "data": {
      "text/plain": [
       "'🍩 + 🍵'"
      ]
     },
     "execution_count": 14,
     "metadata": {},
     "output_type": "execute_result"
    }
   ],
   "source": [
    "b'\\xf0\\x9f\\x8d\\xa9 + \\xf0\\x9f\\x8d\\xb5'.decode('utf-8')\n",
    "# It tells me that Paul loves Bagels and Soup"
   ]
  },
  {
   "cell_type": "markdown",
   "metadata": {},
   "source": [
    "## Answer-5"
   ]
  },
  {
   "cell_type": "code",
   "execution_count": 15,
   "metadata": {},
   "outputs": [
    {
     "data": {
      "text/plain": [
       "{1, 'hi'}"
      ]
     },
     "execution_count": 15,
     "metadata": {},
     "output_type": "execute_result"
    }
   ],
   "source": [
    "{'hi', 1, True}\n",
    "# This is because it is a set and the output of a set is only unique elements whereas '1' and 'True' are not unique\n",
    "# '1' and 'True' represent the same thing in python i.e. 1 is True and 0 is False"
   ]
  },
  {
   "cell_type": "markdown",
   "metadata": {},
   "source": [
    "## Answer-6"
   ]
  },
  {
   "cell_type": "code",
   "execution_count": 16,
   "metadata": {},
   "outputs": [
    {
     "name": "stdout",
     "output_type": "stream",
     "text": [
      "The even numbers between 0 and 20 are the following:-\n",
      "0\n",
      "2\n",
      "4\n",
      "6\n",
      "8\n",
      "10\n",
      "12\n",
      "14\n",
      "16\n",
      "18\n",
      "20\n"
     ]
    }
   ],
   "source": [
    "print(\"The even numbers between 0 and 20 are the following:-\")\n",
    "for i in range(21):\n",
    "    if (i%2==0):\n",
    "        print(i)"
   ]
  },
  {
   "cell_type": "markdown",
   "metadata": {},
   "source": [
    "## Answer-7"
   ]
  },
  {
   "cell_type": "code",
   "execution_count": 10,
   "metadata": {},
   "outputs": [
    {
     "name": "stdout",
     "output_type": "stream",
     "text": [
      "1\n",
      "2\n",
      "Fizz\n",
      "4\n",
      "5\n",
      "Fizz\n",
      "Bang\n",
      "8\n",
      "Fizz\n",
      "10\n",
      "11\n",
      "Fizz\n",
      "13\n",
      "Bang\n",
      "FizzBuzz\n",
      "16\n",
      "17\n",
      "Fizz\n",
      "19\n",
      "20\n",
      "FizzBang\n",
      "22\n",
      "23\n",
      "Fizz\n",
      "25\n",
      "26\n",
      "Fizz\n",
      "Bang\n",
      "29\n",
      "FizzBuzz\n",
      "31\n",
      "32\n",
      "Fizz\n",
      "34\n",
      "35\n",
      "Fizz\n",
      "37\n",
      "38\n",
      "Fizz\n",
      "40\n",
      "41\n",
      "FizzBang\n",
      "43\n",
      "44\n",
      "FizzBuzz\n",
      "46\n",
      "47\n",
      "Fizz\n",
      "Bang\n",
      "50\n",
      "Fizz\n",
      "52\n",
      "53\n",
      "Fizz\n",
      "55\n",
      "Bang\n",
      "Fizz\n",
      "58\n",
      "59\n",
      "FizzBuzz\n",
      "61\n",
      "62\n",
      "FizzBang\n",
      "64\n",
      "65\n",
      "Fizz\n",
      "67\n",
      "68\n",
      "Fizz\n",
      "70\n",
      "71\n",
      "Fizz\n",
      "73\n",
      "74\n",
      "FizzBuzz\n",
      "76\n",
      "Bang\n",
      "Fizz\n",
      "79\n",
      "80\n",
      "Fizz\n",
      "82\n",
      "83\n",
      "FizzBang\n",
      "85\n",
      "86\n",
      "Fizz\n",
      "88\n",
      "89\n",
      "FizzBuzz\n",
      "Bang\n",
      "92\n",
      "Fizz\n",
      "94\n",
      "95\n",
      "Fizz\n",
      "97\n",
      "Bang\n",
      "Fizz\n",
      "100\n"
     ]
    }
   ],
   "source": [
    "for i in range(1,101):\n",
    "    if ((i%3==0) and (i%5==0) and (i%7==0)):\n",
    "        print(\"FizzBuzzBang\")\n",
    "    elif ((i%3==0) and (i%5==0) and (i%7!=0)):\n",
    "        print(\"FizzBuzz\")\n",
    "    elif ((i%3==0) and (i%5!=0) and (i%7==0)):\n",
    "        print(\"FizzBang\")\n",
    "    elif ((i%3==0) and (i%5!=0) and (i%7!=0)):\n",
    "        print(\"Fizz\")\n",
    "    elif ((i%5==0) and (i%3!=0) and (i%5!=0)):\n",
    "        print(\"Buzz\")\n",
    "    elif ((i%7==0) and (i%3!=0) and (i%5!=0)):\n",
    "        print(\"Bang\")\n",
    "    else:\n",
    "        print(i)"
   ]
  },
  {
   "cell_type": "markdown",
   "metadata": {},
   "source": [
    "## Answer-8"
   ]
  },
  {
   "cell_type": "code",
   "execution_count": 24,
   "metadata": {},
   "outputs": [
    {
     "name": "stdout",
     "output_type": "stream",
     "text": [
      "Subhamkedialovescoffee\n",
      "['e', 'i', 'd', 'h', 'a', 'v', 'c', 'l', 'k', 's', 'o', 'f', 'm', 'b', 'u']\n"
     ]
    },
    {
     "data": {
      "text/plain": [
       "'a2b1c1d1e4f2h1i1k1l1m1o2s2u1v1'"
      ]
     },
     "execution_count": 24,
     "metadata": {},
     "output_type": "execute_result"
    }
   ],
   "source": [
    "string_1 = \"Subham kedia loves coffee\"\n",
    "string_1 = \"\".join(string_1.split())\n",
    "print(string_1)\n",
    "string_1 = string_1.lower()\n",
    "string_1 = sorted(string_1)\n",
    "temp = list(set(string_1))\n",
    "print(temp)\n",
    "temp = sorted(temp)\n",
    "name1=''\n",
    "for i in range(len(temp)):\n",
    "    var_2=temp[i]\n",
    "    var_3=(string_1.count(temp[i]))\n",
    "    name1 = name1 + str(var_2) + str(var_3)\n",
    "name1"
   ]
  },
  {
   "cell_type": "markdown",
   "metadata": {},
   "source": [
    "## Answer-9"
   ]
  },
  {
   "cell_type": "code",
   "execution_count": 22,
   "metadata": {},
   "outputs": [
    {
     "data": {
      "text/plain": [
       "[1, 2, 3, 5, 8, 13]"
      ]
     },
     "execution_count": 22,
     "metadata": {},
     "output_type": "execute_result"
    }
   ],
   "source": [
    "a = [1, 1, 2, 3, 5, 8, 13, 21, 34, 55, 89]\n",
    "b = [1, 2, 3, 4, 5, 6, 7, 8, 9, 10, 11, 12, 13]\n",
    "var_1 = set(a)\n",
    "var_2 = set(b)\n",
    "var_3 = var_1 & var_2\n",
    "c = list(var_3)\n",
    "c"
   ]
  },
  {
   "cell_type": "markdown",
   "metadata": {},
   "source": [
    "## Answer-10"
   ]
  },
  {
   "cell_type": "code",
   "execution_count": 15,
   "metadata": {},
   "outputs": [
    {
     "name": "stdout",
     "output_type": "stream",
     "text": [
      "Purple\n"
     ]
    }
   ],
   "source": [
    "d = {\n",
    "    'Urbi': 'Green',\n",
    "    'Derek': 'Blue',\n",
    "    'Jon': 'Yellow',\n",
    "    'Liz': 'Purple',\n",
    "}\n",
    "temp = 'L'\n",
    "temp = temp.lower()\n",
    "for key in d:\n",
    "    var_1 = list(set(key.lower()))\n",
    "    for i in range(len(var_1)):\n",
    "        if(temp == var_1[i]):\n",
    "            print(d[key])"
   ]
  },
  {
   "cell_type": "markdown",
   "metadata": {},
   "source": [
    "## Answer-11"
   ]
  },
  {
   "cell_type": "code",
   "execution_count": 16,
   "metadata": {
    "collapsed": true
   },
   "outputs": [],
   "source": [
    "a = []\n",
    "b = []\n",
    "for i in range(100000):\n",
    "    a.append(1)\n",
    "for i in range(100000):\n",
    "    b.insert(0,2)\n",
    "# When we use the insert command to prepend it takes more than a minute, we can assume it runs for infinitely long time\n",
    "# When we use the append command to append it runs immediately, indicating that prepend in time expensive"
   ]
  },
  {
   "cell_type": "markdown",
   "metadata": {},
   "source": [
    "## Bonus Answer-1"
   ]
  },
  {
   "cell_type": "code",
   "execution_count": 25,
   "metadata": {},
   "outputs": [
    {
     "data": {
      "text/plain": [
       "True"
      ]
     },
     "execution_count": 25,
     "metadata": {},
     "output_type": "execute_result"
    }
   ],
   "source": [
    "a = [1, 2]\n",
    "a.insert(0,a)\n",
    "id(a) == id(a[0])"
   ]
  },
  {
   "cell_type": "markdown",
   "metadata": {},
   "source": [
    "## Bonus Answer-2"
   ]
  },
  {
   "cell_type": "code",
   "execution_count": 26,
   "metadata": {},
   "outputs": [
    {
     "data": {
      "text/plain": [
       "(1, 6, 3, 4, 5)"
      ]
     },
     "execution_count": 26,
     "metadata": {},
     "output_type": "execute_result"
    }
   ],
   "source": [
    "tuple_1 = (1,2,3,4,5)\n",
    "temp = 6\n",
    "tuple_1 = tuple_1[0:1] + (temp,) + tuple_1[2:]\n",
    "tuple_1"
   ]
  },
  {
   "cell_type": "code",
   "execution_count": null,
   "metadata": {
    "collapsed": true
   },
   "outputs": [],
   "source": []
  }
 ],
 "metadata": {
  "kernelspec": {
   "display_name": "Python 3",
   "language": "python",
   "name": "python3"
  },
  "language_info": {
   "codemirror_mode": {
    "name": "ipython",
    "version": 3
   },
   "file_extension": ".py",
   "mimetype": "text/x-python",
   "name": "python",
   "nbconvert_exporter": "python",
   "pygments_lexer": "ipython3",
   "version": "3.6.1"
  }
 },
 "nbformat": 4,
 "nbformat_minor": 2
}
