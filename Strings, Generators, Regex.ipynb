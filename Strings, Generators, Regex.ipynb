{
 "cells": [
  {
   "cell_type": "markdown",
   "metadata": {},
   "source": [
    "# Homework-7\n",
    "\n",
    "## Subham Kedia\n",
    "## UNI-sk4355"
   ]
  },
  {
   "cell_type": "markdown",
   "metadata": {},
   "source": [
    "### Answer-1"
   ]
  },
  {
   "cell_type": "code",
   "execution_count": 1,
   "metadata": {},
   "outputs": [
    {
     "name": "stdout",
     "output_type": "stream",
     "text": [
      "{'This': 1, 'is': 2, 'my': 1, 'best': 1, 'string.': 2, 'It': 1, 'a': 1, 'great': 1}\n",
      "MyCounter <This is my best stri ......>\n",
      "MyCounter(8)\n"
     ]
    }
   ],
   "source": [
    "class MyCounter:\n",
    "    def __init__(self, string):\n",
    "        self.string = string\n",
    "    \n",
    "    def count(self):\n",
    "        d = {}\n",
    "        for word in self.string.split():\n",
    "            if word not in d:\n",
    "                d[word] = 0\n",
    "            d[word] += 1\n",
    "        return d\n",
    "    def repr1(self):\n",
    "        return (str(self.__class__.__name__) + \" <\" + str(self.string[0:20]) + \" ......>\")\n",
    "    def str1(self):\n",
    "        return (self.__class__.__name__) + \"(\" + str(len(MyCounter.count(self))) + \")\"\n",
    "\n",
    "c = MyCounter('This is my best string. It is a great string.')\n",
    "print(c.count())\n",
    "print(c.repr1())\n",
    "print(c.str1())"
   ]
  },
  {
   "cell_type": "markdown",
   "metadata": {},
   "source": [
    "### Answer-2"
   ]
  },
  {
   "cell_type": "code",
   "execution_count": 2,
   "metadata": {},
   "outputs": [
    {
     "name": "stdout",
     "output_type": "stream",
     "text": [
      "Does not start with Hey\n"
     ]
    },
    {
     "data": {
      "text/plain": [
       "True"
      ]
     },
     "execution_count": 2,
     "metadata": {},
     "output_type": "execute_result"
    }
   ],
   "source": [
    "class start(str):\n",
    "    def notstartswith(self, check):\n",
    "        if super().startswith(check):\n",
    "            print(f\"Starts with {check}\")\n",
    "            return False\n",
    "        else:\n",
    "            print(f\"Does not start with {check}\")\n",
    "            return True\n",
    "\n",
    "str1 = \"My name is Subham Kedia\"\n",
    "start(str1).notstartswith(\"Hey\")"
   ]
  },
  {
   "cell_type": "markdown",
   "metadata": {},
   "source": [
    "### Answer-3"
   ]
  },
  {
   "cell_type": "code",
   "execution_count": 3,
   "metadata": {},
   "outputs": [
    {
     "ename": "LackError",
     "evalue": "Severe Lack of Parties.",
     "output_type": "error",
     "traceback": [
      "\u001b[0;31m---------------------------------------------------------------------------\u001b[0m",
      "\u001b[0;31mLackError\u001b[0m                                 Traceback (most recent call last)",
      "\u001b[0;32m<ipython-input-3-c3a10be8e986>\u001b[0m in \u001b[0;36m<module>\u001b[0;34m()\u001b[0m\n\u001b[1;32m      7\u001b[0m         \u001b[0;32mraise\u001b[0m \u001b[0mLackError\u001b[0m\u001b[0;34m(\u001b[0m\u001b[0;34m\"Severe Lack of Parties.\"\u001b[0m\u001b[0;34m)\u001b[0m\u001b[0;34m\u001b[0m\u001b[0m\n\u001b[1;32m      8\u001b[0m \u001b[0;34m\u001b[0m\u001b[0m\n\u001b[0;32m----> 9\u001b[0;31m \u001b[0mfunc1\u001b[0m\u001b[0;34m(\u001b[0m\u001b[0;36m9\u001b[0m\u001b[0;34m)\u001b[0m\u001b[0;34m\u001b[0m\u001b[0m\n\u001b[0m",
      "\u001b[0;32m<ipython-input-3-c3a10be8e986>\u001b[0m in \u001b[0;36mfunc1\u001b[0;34m(n)\u001b[0m\n\u001b[1;32m      5\u001b[0m \u001b[0;32mdef\u001b[0m \u001b[0mfunc1\u001b[0m\u001b[0;34m(\u001b[0m\u001b[0mn\u001b[0m\u001b[0;34m)\u001b[0m\u001b[0;34m:\u001b[0m\u001b[0;34m\u001b[0m\u001b[0m\n\u001b[1;32m      6\u001b[0m     \u001b[0;32mif\u001b[0m \u001b[0;34m(\u001b[0m\u001b[0mn\u001b[0m\u001b[0;34m<\u001b[0m\u001b[0;36m10\u001b[0m\u001b[0;34m)\u001b[0m\u001b[0;34m:\u001b[0m\u001b[0;34m\u001b[0m\u001b[0m\n\u001b[0;32m----> 7\u001b[0;31m         \u001b[0;32mraise\u001b[0m \u001b[0mLackError\u001b[0m\u001b[0;34m(\u001b[0m\u001b[0;34m\"Severe Lack of Parties.\"\u001b[0m\u001b[0;34m)\u001b[0m\u001b[0;34m\u001b[0m\u001b[0m\n\u001b[0m\u001b[1;32m      8\u001b[0m \u001b[0;34m\u001b[0m\u001b[0m\n\u001b[1;32m      9\u001b[0m \u001b[0mfunc1\u001b[0m\u001b[0;34m(\u001b[0m\u001b[0;36m9\u001b[0m\u001b[0;34m)\u001b[0m\u001b[0;34m\u001b[0m\u001b[0m\n",
      "\u001b[0;31mLackError\u001b[0m: Severe Lack of Parties."
     ]
    }
   ],
   "source": [
    "class LackError(Exception):\n",
    "    def __init__(self, message):\n",
    "        super(LackError, self).__init__(message)\n",
    "        \n",
    "def func1(n):\n",
    "    if (n<10):\n",
    "        raise LackError(\"Severe Lack of Parties.\")\n",
    "        \n",
    "func1(9)"
   ]
  },
  {
   "cell_type": "markdown",
   "metadata": {},
   "source": [
    "### Answer-4"
   ]
  },
  {
   "cell_type": "code",
   "execution_count": 4,
   "metadata": {},
   "outputs": [
    {
     "data": {
      "text/plain": [
       "[1, 2, 4, 5, 8, 9, 4, 4]"
      ]
     },
     "execution_count": 4,
     "metadata": {},
     "output_type": "execute_result"
    }
   ],
   "source": [
    "new_lis = []\n",
    "def flatten(lis):\n",
    "    for item in lis:\n",
    "        if type(item) == type([]):\n",
    "            flatten(item)\n",
    "        else:\n",
    "            new_lis.append(item)\n",
    "    return new_lis\n",
    "p = [1, [[2, 4], 5], [8, 9, [4, [4]]]]\n",
    "flatten(p)"
   ]
  },
  {
   "cell_type": "markdown",
   "metadata": {},
   "source": [
    "### Answer-5"
   ]
  },
  {
   "cell_type": "code",
   "execution_count": 5,
   "metadata": {},
   "outputs": [
    {
     "data": {
      "text/plain": [
       "0.4275"
      ]
     },
     "execution_count": 5,
     "metadata": {},
     "output_type": "execute_result"
    }
   ],
   "source": [
    "class store:\n",
    "    def __init__(self, sqft):\n",
    "        self.sqft = sqft\n",
    "    def elec_cost(self, price, kwh):\n",
    "        return (self.sqft * kwh * price)\n",
    "\n",
    "new = store(15)\n",
    "new.elec_cost(0.15, 0.19)"
   ]
  },
  {
   "cell_type": "markdown",
   "metadata": {},
   "source": [
    "### Answer-6"
   ]
  },
  {
   "cell_type": "code",
   "execution_count": 6,
   "metadata": {},
   "outputs": [
    {
     "data": {
      "text/plain": [
       "{'Hello': 2, 'How': 2, 'are': 1, 'doing': 1, 'you': 1}"
      ]
     },
     "execution_count": 6,
     "metadata": {},
     "output_type": "execute_result"
    }
   ],
   "source": [
    "class counter():\n",
    "    \n",
    "    def __init__(self, string):\n",
    "        self.string = string\n",
    "    def count(self):\n",
    "        dict1 = {}\n",
    "        str2 = self.string\n",
    "        temp1 = str2.split()\n",
    "        temp2 = list(set(temp1))\n",
    "        for i in temp2:\n",
    "            count1 = temp1.count(i)\n",
    "            dict1[i] = count1\n",
    "        return dict1\n",
    "\n",
    "obj = counter(\"Hello Hello How How are you doing\")\n",
    "obj.count()"
   ]
  },
  {
   "cell_type": "markdown",
   "metadata": {},
   "source": [
    "### Answer-7"
   ]
  },
  {
   "cell_type": "code",
   "execution_count": 7,
   "metadata": {},
   "outputs": [
    {
     "name": "stdout",
     "output_type": "stream",
     "text": [
      "102334155\n"
     ]
    }
   ],
   "source": [
    "def fibo():\n",
    "    i = 0\n",
    "    j = 1\n",
    "    while True:\n",
    "        yield i\n",
    "        c = i+j\n",
    "        i = j\n",
    "        j = c\n",
    "        \n",
    "obj = fibo()\n",
    "for x in range(40):\n",
    "    next(obj)\n",
    "print(next(obj))"
   ]
  },
  {
   "cell_type": "markdown",
   "metadata": {},
   "source": [
    "### Answer-8"
   ]
  },
  {
   "cell_type": "code",
   "execution_count": 8,
   "metadata": {},
   "outputs": [
    {
     "name": "stdout",
     "output_type": "stream",
     "text": [
      "This\n",
      "Is\n",
      "The\n",
      "Song\n",
      "That\n",
      "Never\n",
      "Ends\n",
      "This\n",
      "Is\n",
      "The\n"
     ]
    }
   ],
   "source": [
    "def nev_end():\n",
    "    while True:\n",
    "        yield 'This'  \n",
    "        yield 'Is'  \n",
    "        yield 'The'\n",
    "        yield 'Song'\n",
    "        yield 'That'\n",
    "        yield 'Never'\n",
    "        yield 'Ends'\n",
    "        \n",
    "    \n",
    "obj_nev_end = nev_end()\n",
    "\n",
    "print(next(obj_nev_end))\n",
    "print(next(obj_nev_end))\n",
    "print(next(obj_nev_end))\n",
    "print(next(obj_nev_end))\n",
    "print(next(obj_nev_end))\n",
    "print(next(obj_nev_end))\n",
    "print(next(obj_nev_end))\n",
    "print(next(obj_nev_end))\n",
    "print(next(obj_nev_end))\n",
    "print(next(obj_nev_end))"
   ]
  },
  {
   "cell_type": "markdown",
   "metadata": {},
   "source": [
    "### Answer-9"
   ]
  },
  {
   "cell_type": "code",
   "execution_count": 9,
   "metadata": {
    "collapsed": true
   },
   "outputs": [],
   "source": [
    "# Uploaded as sort.py"
   ]
  },
  {
   "cell_type": "markdown",
   "metadata": {},
   "source": [
    "### Answer-10"
   ]
  },
  {
   "cell_type": "code",
   "execution_count": 10,
   "metadata": {},
   "outputs": [
    {
     "name": "stdout",
     "output_type": "stream",
     "text": [
      "2010-04-29 => ('2010', '04', '29')\n",
      "1984 => No match\n",
      "ABC-123!\n",
      "Feb => No match\n",
      "18th, => No match\n",
      "2018. => No match\n",
      "\n",
      "888-27-8949 => No match\n",
      "2048-07-07 => ('2048', '07', '07')\n"
     ]
    }
   ],
   "source": [
    "import re\n",
    "\n",
    "# string = \"\"\"2010-04-29\n",
    "# 1984 ABC-123!\n",
    "# Feb 18th, 2018.\n",
    "# 888-27-8949\n",
    "# 2048-07-07\n",
    "# \"\"\"\n",
    "\n",
    "string = \"\"\"\n",
    "2010-04-29 1984 ABC-123!\n",
    "Feb 18th, 2018. \n",
    "888-27-8949 2048-07-07\n",
    "\"\"\"\n",
    "\n",
    "pattern = re.compile(r'^(\\d{4})-(\\d{2})-(\\d{2})$')\n",
    "for str1 in string.strip().split(' '):\n",
    "    match = pattern.match(str1)\n",
    "    if match:\n",
    "        print(str1, '=>', match.groups())\n",
    "    else:\n",
    "        print(str1, '=>', 'No match')"
   ]
  },
  {
   "cell_type": "code",
   "execution_count": null,
   "metadata": {
    "collapsed": true
   },
   "outputs": [],
   "source": []
  }
 ],
 "metadata": {
  "kernelspec": {
   "display_name": "Python 3",
   "language": "python",
   "name": "python3"
  },
  "language_info": {
   "codemirror_mode": {
    "name": "ipython",
    "version": 3
   },
   "file_extension": ".py",
   "mimetype": "text/x-python",
   "name": "python",
   "nbconvert_exporter": "python",
   "pygments_lexer": "ipython3",
   "version": "3.6.1"
  }
 },
 "nbformat": 4,
 "nbformat_minor": 2
}
